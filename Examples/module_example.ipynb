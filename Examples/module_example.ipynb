{
 "cells": [
  {
   "cell_type": "markdown",
   "metadata": {},
   "source": [
    "# Module Example\n",
    "\n",
    "Short example of how the API would work as a python module. A python option is included to improve speeds.\n",
    "\n",
    "There are two key steps:\n",
    "\n",
    "1. Send the data the the handle_charge_request switch function\n",
    "2. Receive the charge data\n"
   ]
  },
  {
   "cell_type": "code",
   "execution_count": 1,
   "metadata": {},
   "outputs": [],
   "source": [
    "#import the necassary module\n",
    "\n",
    "from multiprocessing import Process\n",
    "import json\n",
    "import numpy as np\n",
    "from ChargeAPI.API_infrastructure import module_version\n",
    "import os\n",
    "from rdkit import Chem\n",
    "import rdkit\n",
    "import tempfile"
   ]
  },
  {
   "cell_type": "code",
   "execution_count": 6,
   "metadata": {},
   "outputs": [
    {
     "name": "stdout",
     "output_type": "stream",
     "text": [
      "{'charge_result': '[0.40716874599456787, -0.8143374919891357, 0.40716874599456787]', 'error': ''}\n",
      "[0.40716874599456787, -0.8143374919891357, 0.40716874599456787]\n"
     ]
    }
   ],
   "source": [
    "mol = '\\n     RDKit          3D\\n\\n  3  2  0  0  0  0  0  0  0  0999 V2000\\n   -0.7890   -0.1982   -0.0000 H   0  0  0  0  0  0  0  0  0  0  0  0\\n   -0.0061    0.3917   -0.0000 O   0  0  0  0  0  0  0  0  0  0  0  0\\n    0.7951   -0.1936    0.0000 H   0  0  0  0  0  0  0  0  0  0  0  0\\n  1  2  1  0\\n  2  3  1  0\\nM  END\\n'\n",
    "\n",
    "json_result = module_version.handle_charge_request(charge_model = 'MBIS', \n",
    "                                                    conformer_mol = mol,\n",
    "                                                    batched=False)\n",
    "print(json_result)\n",
    "print(json_result['charge_result'])\n"
   ]
  },
  {
   "cell_type": "code",
   "execution_count": 3,
   "metadata": {},
   "outputs": [
    {
     "ename": "OSError",
     "evalue": "File error: Bad input file /Users/localadmin/Documents/projects/ChargeAPI/tests/data/batched_compounds.sdf",
     "output_type": "error",
     "traceback": [
      "\u001b[0;31m---------------------------------------------------------------------------\u001b[0m",
      "\u001b[0;31mOSError\u001b[0m                                   Traceback (most recent call last)",
      "Cell \u001b[0;32mIn[3], line 4\u001b[0m\n\u001b[1;32m      1\u001b[0m mol_file \u001b[38;5;241m=\u001b[39m os\u001b[38;5;241m.\u001b[39mpath\u001b[38;5;241m.\u001b[39mjoin(\u001b[38;5;124m'\u001b[39m\u001b[38;5;124m/Users/localadmin/Documents/projects/ChargeAPI/tests/data/batched_compounds.sdf\u001b[39m\u001b[38;5;124m'\u001b[39m)\n\u001b[1;32m      3\u001b[0m mols \u001b[38;5;241m=\u001b[39m []\n\u001b[0;32m----> 4\u001b[0m \u001b[38;5;28;01mwith\u001b[39;00m Chem\u001b[38;5;241m.\u001b[39mSDMolSupplier(mol_file) \u001b[38;5;28;01mas\u001b[39;00m suppl:\n\u001b[1;32m      5\u001b[0m     \u001b[38;5;28;01mfor\u001b[39;00m mol \u001b[38;5;129;01min\u001b[39;00m suppl:\n\u001b[1;32m      6\u001b[0m         mols\u001b[38;5;241m.\u001b[39mappend(mol)\n",
      "\u001b[0;31mOSError\u001b[0m: File error: Bad input file /Users/localadmin/Documents/projects/ChargeAPI/tests/data/batched_compounds.sdf"
     ]
    }
   ],
   "source": [
    "mol_file = os.path.join('/Users/localadmin/Documents/projects/ChargeAPI/tests/data/batched_compounds.sdf')\n",
    "\n",
    "mols = []\n",
    "with Chem.SDMolSupplier(mol_file) as suppl:\n",
    "    for mol in suppl:\n",
    "        mols.append(mol)\n",
    "print(mols)\n",
    "mol_file = {}\n",
    "for mol in mols:\n",
    "    if mol.HasProp(\"_Name\"):\n",
    "        mol_file[mol.GetProp(\"_Name\")] = rdkit.Chem.rdmolfiles.MolToMolBlock(mol)\n",
    "    # else:\n",
    "    #     mol_file[get_valid_id_name()] =  rdkit.Chem.rdmolfiles.MolToMolBlock(mol)\n",
    "print(mol_file)\n",
    "# with open(tempfile.TemporaryDirectory().name, 'w+') as tmpfile:\n",
    "with open('mol_file.mol','w+') as f:\n",
    "    json.dump(mol_file, f, indent = 2)\n",
    "    file_path = os.path.abspath('mol_file.mol')\n",
    "    print(file_path)\n",
    "\n",
    "    # json_file = nalg_mbis(mols)\n",
    "\n",
    "\n",
    "json_result = module_version.handle_charge_request(charge_model = 'MBIS_CHARGE', \n",
    "                                                    conformer_mol = file_path,\n",
    "                                                    batched=True)\n",
    "print(json_result)\n",
    "print(json_result['charge_result'])\n",
    "dict = json.load(open(json_result['charge_result']))\n",
    "[item[1] for item in dict.items()]\n"
   ]
  }
 ],
 "metadata": {
  "kernelspec": {
   "display_name": "API_env",
   "language": "python",
   "name": "python3"
  },
  "language_info": {
   "codemirror_mode": {
    "name": "ipython",
    "version": 3
   },
   "file_extension": ".py",
   "mimetype": "text/x-python",
   "name": "python",
   "nbconvert_exporter": "python",
   "pygments_lexer": "ipython3",
   "version": "3.11.7"
  }
 },
 "nbformat": 4,
 "nbformat_minor": 2
}
