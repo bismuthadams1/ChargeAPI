{
 "cells": [
  {
   "cell_type": "code",
   "execution_count": 10,
   "metadata": {},
   "outputs": [],
   "source": [
    "import subprocess\n",
    "import requests\n",
    "from multiprocessing import Process\n",
    "import json\n",
    "import os\n",
    "import numpy as np"
   ]
  },
  {
   "cell_type": "code",
   "execution_count": 2,
   "metadata": {},
   "outputs": [
    {
     "name": "stdout",
     "output_type": "stream",
     "text": [
      "<_io.BufferedReader name=73>\n"
     ]
    }
   ],
   "source": [
    "#start the http server\n",
    "path = os.path.abspath('../ChargeAPI/API_infrastructure/api_class.py')\n",
    "command = f'python {path}'\n",
    "flask_process = subprocess.Popen(command, shell=True, stdout=subprocess.PIPE, stderr=subprocess.PIPE)\n",
    "print(flask_process.stderr )"
   ]
  },
  {
   "cell_type": "code",
   "execution_count": 13,
   "metadata": {},
   "outputs": [
    {
     "data": {
      "text/plain": [
       "{'charge_result': '[0.41073812213382016, -0.8164372902205344, 0.4056991680867142]\\n\\n',\n",
       " 'error': \"Warning: Unable to load toolkit 'OpenEye Toolkit'. The Open Force Field Toolkit does not require the OpenEye Toolkits, and can use RDKit/AmberTools instead. However, if you have a valid license for the OpenEye Toolkits, consider installing them for faster performance and additional file format support: https://docs.eyesopen.com/toolkits/python/quickstart-python/linuxosx.html OpenEye offers free Toolkit licenses for academics: https://www.eyesopen.com/academic-licensing\\n\\n\"}"
      ]
     },
     "execution_count": 13,
     "metadata": {},
     "output_type": "execute_result"
    }
   ],
   "source": [
    "#provide the charge data as a json\n",
    "conformer = np.array([[-0.78900161, -0.19816432, -0.        ],\n",
    "                          [-0.00612716,  0.39173634, -0.        ],\n",
    "                          [ 0.79512877, -0.19357202,  0.        ]])\n",
    "tagged_smiles = \"[H:1][O:2][H:3]\"\n",
    "json_data = {}\n",
    "json_data['conformer'] = conformer.flatten().tolist()\n",
    "json_data['tagged_smiles'] = tagged_smiles\n",
    "json_data = json.dumps(json_data)\n",
    "\n",
    "#send the data to html request\n",
    "json_charges = requests.post('http://127.0.0.1:5000/charge/EEM', json = json_data)\n",
    "json_charges.json()"
   ]
  },
  {
   "cell_type": "markdown",
   "metadata": {},
   "source": [
    "Sometimes the processes will hang on a specific port (5000 in our example here). To kill the process run:\n",
    "\n",
    "`lsof -i:5000` to identify the PID then run `kill -9 <PID>`"
   ]
  },
  {
   "cell_type": "code",
   "execution_count": null,
   "metadata": {},
   "outputs": [],
   "source": [
    "url = 'http://127.0.0.1:5000/shutdown'\n",
    "requests.post(url)\n",
    "\n",
    "flask_process.kill()"
   ]
  }
 ],
 "metadata": {
  "kernelspec": {
   "display_name": "API_env",
   "language": "python",
   "name": "python3"
  },
  "language_info": {
   "codemirror_mode": {
    "name": "ipython",
    "version": 3
   },
   "file_extension": ".py",
   "mimetype": "text/x-python",
   "name": "python",
   "nbconvert_exporter": "python",
   "pygments_lexer": "ipython3",
   "version": "3.11.6"
  }
 },
 "nbformat": 4,
 "nbformat_minor": 2
}
