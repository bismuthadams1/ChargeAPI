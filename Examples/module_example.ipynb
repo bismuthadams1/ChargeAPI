{
 "cells": [
  {
   "cell_type": "markdown",
   "metadata": {},
   "source": [
    "# Module Example\n",
    "\n",
    "Short example of how the API would work as a python module. A python option is included to improve speeds.\n",
    "\n",
    "There are two key steps:\n",
    "\n",
    "1. Send the data the the handle_charge_request switch function\n",
    "2. Receive the charge data\n"
   ]
  },
  {
   "cell_type": "code",
   "execution_count": 2,
   "metadata": {},
   "outputs": [],
   "source": [
    "#import the necassary module\n",
    "\n",
    "from multiprocessing import Process\n",
    "import json\n",
    "import numpy as np\n",
    "from ChargeAPI.API_infrastructure.charge_request import module_version\n",
    "import os\n",
    "from rdkit import Chem\n",
    "import rdkit\n",
    "import tempfile"
   ]
  },
  {
   "cell_type": "code",
   "execution_count": 6,
   "metadata": {},
   "outputs": [
    {
     "name": "stdout",
     "output_type": "stream",
     "text": [
      "{'charge_result': '[0.40716874599456787, -0.8143374919891357, 0.40716874599456787]', 'error': ''}\n",
      "[0.40716874599456787, -0.8143374919891357, 0.40716874599456787]\n"
     ]
    }
   ],
   "source": [
    "mol = '\\n     RDKit          3D\\n\\n  3  2  0  0  0  0  0  0  0  0999 V2000\\n   -0.7890   -0.1982   -0.0000 H   0  0  0  0  0  0  0  0  0  0  0  0\\n   -0.0061    0.3917   -0.0000 O   0  0  0  0  0  0  0  0  0  0  0  0\\n    0.7951   -0.1936    0.0000 H   0  0  0  0  0  0  0  0  0  0  0  0\\n  1  2  1  0\\n  2  3  1  0\\nM  END\\n'\n",
    "\n",
    "json_result = module_version.handle_charge_request(charge_model = 'MBIS', \n",
    "                                                    conformer_mol = mol,\n",
    "                                                    batched=False)\n",
    "print(json_result)\n",
    "print(json_result['charge_result'])\n"
   ]
  },
  {
   "cell_type": "code",
   "execution_count": 6,
   "metadata": {},
   "outputs": [
    {
     "name": "stdout",
     "output_type": "stream",
     "text": [
      "[<rdkit.Chem.rdchem.Mol object at 0x7fa5be178890>]\n",
      "{'ph4_6': 'ph4_6\\n     RDKit          3D\\n\\n 34 36  0  0  0  0  0  0  0  0999 V2000\\n   24.5800  -19.6070   31.6610 S   0  0  0  0  0  0  0  0  0  0  0  0\\n   20.1670  -19.0230   27.3190 N   0  0  0  0  0  0  0  0  0  0  0  0\\n   18.4980  -20.3220   26.5090 N   0  0  0  0  0  0  0  0  0  0  0  0\\n   22.1820  -19.4530   28.4560 O   0  0  0  0  0  0  0  0  0  0  0  0\\n   17.9300  -20.3410   23.3960 N   0  0  0  0  0  0  0  0  0  0  0  0\\n   22.5630  -16.8680   30.7590 O   0  0  0  0  0  0  0  0  0  0  0  0\\n   25.3240  -21.6310   32.5380 C   0  0  0  0  0  0  0  0  0  0  0  0\\n   19.7280  -18.8410   23.2880 N   0  0  0  0  0  0  0  0  0  0  0  0\\n   19.9930  -16.8690   29.7130 O   0  0  0  0  0  0  0  0  0  0  0  0\\n   23.6420  -20.1810   30.2000 C   0  0  0  0  0  0  0  0  0  0  0  0\\n   20.9340  -18.0040   25.2130 N   0  0  0  0  0  0  0  0  0  0  0  0\\n   22.9790  -18.9580   29.5600 C   0  0  2  0  0  0  0  0  0  0  0  0\\n   22.0120  -18.1430   30.4850 C   0  0  2  0  0  0  0  0  0  0  0  0\\n   20.6700  -18.0960   29.6630 C   0  0  2  0  0  0  0  0  0  0  0  0\\n   21.1470  -18.4520   28.2260 C   0  0  2  0  0  0  0  0  0  0  0  0\\n   19.1840  -19.9400   27.5970 C   0  0  0  0  0  0  0  0  0  0  0  0\\n   19.0840  -19.6040   25.4500 C   0  0  2  0  0  0  0  0  0  0  0  0\\n   18.8850  -19.5980   24.0440 C   0  0  0  0  0  0  0  0  0  0  0  0\\n   20.6830  -18.0780   23.8910 C   0  0  0  0  0  0  0  0  0  0  0  0\\n   20.1170  -18.8050   25.9600 C   0  0  0  0  0  0  0  0  0  0  0  0\\n   24.8140  -24.8150   39.4430 C   0  0  0  0  0  0  0  0  0  0  0  0\\n   25.5860  -24.8850   38.2170 O   0  0  0  0  0  0  0  0  0  0  0  0\\n   23.5960  -23.9910   39.0120 C   0  0  1  0  0  0  0  0  0  0  0  0\\n   23.0610  -23.2830   40.1190 O   0  0  0  0  0  0  0  0  0  0  0  0\\n   24.1250  -23.0240   37.9290 C   0  0  0  0  0  0  0  0  0  0  0  0\\n   25.5400  -23.5550   37.6070 C   0  0  2  0  0  0  0  0  0  0  0  0\\n   25.9040  -23.7340   36.1630 N   0  0  0  0  0  0  0  0  0  0  0  0\\n   27.2990  -23.9600   35.8710 C   0  0  0  0  0  0  0  0  0  0  0  0\\n   28.1150  -23.9530   36.8440 O   0  0  0  0  0  0  0  0  0  0  0  0\\n   27.9210  -24.2620   34.5410 N   0  0  0  0  0  0  0  0  0  0  0  0\\n   26.7660  -24.1710   33.6090 C   0  0  0  0  0  0  0  0  0  0  0  0\\n   27.0780  -24.4920   32.3340 N   0  0  0  0  0  0  0  0  0  0  0  0\\n   25.3540  -23.4970   33.7190 C   0  0  0  0  0  0  0  0  0  0  0  0\\n   24.5650  -24.0070   34.9560 C   0  0  0  0  0  0  0  0  0  0  0  0\\n  1 10  1  0\\n 15  2  1  6\\n  2 16  1  0\\n  2 20  1  0\\n  3 16  1  0\\n 17  3  1  6\\n  4 12  1  0\\n  4 15  1  0\\n  5 18  1  0\\n 13  6  1  6\\n  8 18  1  0\\n  8 19  1  0\\n 14  9  1  6\\n 12 10  1  1\\n 11 19  1  0\\n 11 20  1  0\\n 12 13  1  0\\n 13 14  1  0\\n 14 15  1  0\\n 17 18  1  0\\n 17 20  1  0\\n 21 22  1  0\\n 21 23  1  0\\n 22 26  1  0\\n 23 24  1  1\\n 23 25  1  0\\n 25 26  1  0\\n 26 27  1  6\\n 27 28  1  0\\n 27 34  1  0\\n 28 29  2  0\\n 28 30  1  0\\n 30 31  2  0\\n 31 32  1  0\\n 31 33  1  0\\n 33 34  2  0\\nM  END\\n'}\n",
      "/home/vboxuser/Documents/ChargeAPI/Examples/mol_file.mol\n"
     ]
    },
    {
     "name": "stderr",
     "output_type": "stream",
     "text": [
      "[16:22:06] Warning: molecule is tagged as 2D, but at least one Z coordinate is not zero. Marking the mol as 3D.\n"
     ]
    }
   ],
   "source": [
    "# mol_file = os.path.join('/home/vboxuser/Documents/ChargeAPI/tests/data/ph4_6.sdf')\n",
    "\n",
    "# mols = []\n",
    "# with Chem.SDMolSupplier(mol_file) as suppl:\n",
    "#     for mol in suppl:\n",
    "#         mols.append(mol)\n",
    "# print(mols)\n",
    "# mol_file = {}\n",
    "# for mol in mols:\n",
    "#     if mol.HasProp(\"_Name\"):\n",
    "#         mol_file[mol.GetProp(\"_Name\")] = rdkit.Chem.rdmolfiles.MolToMolBlock(mol)\n",
    "#     # else:\n",
    "#     #     mol_file[get_valid_id_name()] =  rdkit.Chem.rdmolfiles.MolToMolBlock(mol)\n",
    "# print(mol_file)\n",
    "# # with open(tempfile.TemporaryDirectory().name, 'w+') as tmpfile:\n",
    "# with open('mol_file.mol','w+') as f:\n",
    "#     json.dump(mol_file, f, indent = 2)\n",
    "#     file_path = os.path.abspath('mol_file.mol')\n",
    "#     print(file_path)\n",
    "\n",
    "    # json_file = nalg_mbis(mols)\n",
    "\n",
    "file_path = '/home/vboxuser/Documents/ChargeAPI/tests/data/mol_file.mol'\n",
    "json_result = module_version.handle_charge_request(charge_model = 'MBIS_CHARGE', \n",
    "                                                    conformer_mol = file_path,\n",
    "                                                    batched=True)\n",
    "print(json_result)\n",
    "print(json_result['charge_result'])\n",
    "dict = json.load(open(json_result['charge_result']))\n",
    "# [item[1] for item in dict.items()]\n",
    "print(dict)\n"
   ]
  }
 ],
 "metadata": {
  "kernelspec": {
   "display_name": "API_env",
   "language": "python",
   "name": "python3"
  },
  "language_info": {
   "codemirror_mode": {
    "name": "ipython",
    "version": 3
   },
   "file_extension": ".py",
   "mimetype": "text/x-python",
   "name": "python",
   "nbconvert_exporter": "python",
   "pygments_lexer": "ipython3",
   "version": "3.11.7"
  }
 },
 "nbformat": 4,
 "nbformat_minor": 2
}
