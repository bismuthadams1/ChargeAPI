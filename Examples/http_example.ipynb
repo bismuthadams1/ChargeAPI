{
 "cells": [
  {
   "cell_type": "markdown",
   "metadata": {},
   "source": [
    "# HTTP Example\n",
    "\n",
    "Short example of how the API would work with the Flask infrastructure.\n",
    "\n",
    "There are three key steps:\n",
    "\n",
    "1. Start the HTTP server\n",
    "2. Send data to HTTP server\n",
    "3. Recieve the charge data as JSON (JSON can be expandable in the future to include other data like ESPs)"
   ]
  },
  {
   "cell_type": "code",
   "execution_count": 2,
   "metadata": {},
   "outputs": [],
   "source": [
    "#Import the necassary modules\n",
    "import subprocess\n",
    "import requests\n",
    "from multiprocessing import Process\n",
    "import json\n",
    "import os\n",
    "import numpy as np"
   ]
  },
  {
   "cell_type": "markdown",
   "metadata": {},
   "source": [
    "Start the HTTP Server\n"
   ]
  },
  {
   "cell_type": "code",
   "execution_count": 3,
   "metadata": {},
   "outputs": [
    {
     "name": "stdout",
     "output_type": "stream",
     "text": [
      "<_io.BufferedReader name=73>\n",
      "<_io.BufferedReader name=71>\n"
     ]
    }
   ],
   "source": [
    "#start the http server\n",
    "path = os.path.abspath('../ChargeAPI/API_infrastructure/api_class.py')\n",
    "command = f'python {path}'\n",
    "flask_process = subprocess.Popen(command, shell=True, stdout=subprocess.PIPE, stderr=subprocess.PIPE)\n",
    "print(flask_process.stderr )\n",
    "print(flask_process.stdout)"
   ]
  },
  {
   "cell_type": "markdown",
   "metadata": {},
   "source": [
    "Send the conformer and SMILES data. Receive the charge data as a JSON"
   ]
  },
  {
   "cell_type": "code",
   "execution_count": 6,
   "metadata": {},
   "outputs": [
    {
     "name": "stdout",
     "output_type": "stream",
     "text": [
      "<Response [200]>\n"
     ]
    },
    {
     "data": {
      "text/plain": [
       "[0.41074484027270003, -0.8164215456115396, 0.40567670533883954]"
      ]
     },
     "execution_count": 6,
     "metadata": {},
     "output_type": "execute_result"
    }
   ],
   "source": [
    "#provide the charge data as a xyz (will add features in future to accept different file formats)\n",
    "mol = '\\n     RDKit          3D\\n\\n  3  2  0  0  0  0  0  0  0  0999 V2000\\n   -0.7890   -0.1982   -0.0000 H   0  0  0  0  0  0  0  0  0  0  0  0\\n   -0.0061    0.3917   -0.0000 O   0  0  0  0  0  0  0  0  0  0  0  0\\n    0.7951   -0.1936    0.0000 H   0  0  0  0  0  0  0  0  0  0  0  0\\n  1  2  1  0\\n  2  3  1  0\\nM  END\\n'\n",
    "\n",
    "#mapped smiles can be built from openff molecules. https://docs.openforcefield.org/projects/toolkit/en/stable/api/generated/openff.toolkit.topology.Molecule.html#openff.toolkit.topology.Molecule.to_smiles\n",
    "#mapped_smiles = \"[H:1][O:2][H:3]\"\n",
    "json_data = {}\n",
    "json_data['conformer_mol'] = mol\n",
    "json_data = json.dumps(json_data)\n",
    "\n",
    "# Send the data to html requestl.\n",
    "# The local IP might be different on different systems. \n",
    "# You may need to find this out and replace the 127.0.0.1 IP.\n",
    "json_charges = requests.post('http://127.0.0.1:5000/charge/EEM', json = json_data)\n",
    "print(json_charges)\n",
    "#charges\n",
    "json.loads(json_charges.json()['charge_result'])"
   ]
  },
  {
   "cell_type": "markdown",
   "metadata": {},
   "source": [
    "Sometimes the processes will hang on a specific port (5000 in our example here). To kill the process run:\n",
    "\n",
    "`lsof -i:5000` to identify the PID then run `kill -9 <PID>`"
   ]
  },
  {
   "cell_type": "code",
   "execution_count": null,
   "metadata": {},
   "outputs": [],
   "source": [
    "url = 'http://127.0.0.1:5000/shutdown'\n",
    "requests.post(url)\n",
    "\n",
    "flask_process.kill()"
   ]
  }
 ],
 "metadata": {
  "kernelspec": {
   "display_name": "API_env",
   "language": "python",
   "name": "python3"
  },
  "language_info": {
   "codemirror_mode": {
    "name": "ipython",
    "version": 3
   },
   "file_extension": ".py",
   "mimetype": "text/x-python",
   "name": "python",
   "nbconvert_exporter": "python",
   "pygments_lexer": "ipython3",
   "version": "3.11.6"
  }
 },
 "nbformat": 4,
 "nbformat_minor": 2
}
