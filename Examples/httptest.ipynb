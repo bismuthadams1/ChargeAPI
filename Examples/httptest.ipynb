{
 "cells": [
  {
   "cell_type": "code",
   "execution_count": 10,
   "metadata": {},
   "outputs": [],
   "source": [
    "import subprocess\n",
    "import requests\n",
    "from multiprocessing import Process\n",
    "import json\n",
    "import os\n",
    "import numpy as np"
   ]
  },
  {
   "cell_type": "code",
   "execution_count": 25,
   "metadata": {},
   "outputs": [
    {
     "name": "stdout",
     "output_type": "stream",
     "text": [
      "<_io.BufferedReader name=78>\n"
     ]
    }
   ],
   "source": [
    "#start the http server\n",
    "path = os.path.abspath('../ChargeAPI/API_infrastructure/api_class.py')\n",
    "command = f'python {path}'\n",
    "flask_process = subprocess.Popen(command, shell=True, stdout=subprocess.PIPE, stderr=subprocess.PIPE)\n",
    "print(flask_process.stderr )"
   ]
  },
  {
   "cell_type": "code",
   "execution_count": 26,
   "metadata": {},
   "outputs": [
    {
     "data": {
      "text/plain": [
       "{'charge_result': '',\n",
       " 'error': \"python: can't open file '/Users/localadmin/Documents/projects/ChargeAPI/ChargeAPI/ChargeAPI/charge_models/eem_model.py': [Errno 2] No such file or directory\\n\\nERROR conda.cli.main_run:execute(47): `conda run python /Users/localadmin/Documents/projects/ChargeAPI/ChargeAPI/ChargeAPI/charge_models/eem_model.py [H:1][O:2][H:3] /var/folders/5m/c625w21d6q3cgv41hc6yjs100000gq/T/tmph9hvuh93` failed. (See above for error)\\n\"}"
      ]
     },
     "execution_count": 26,
     "metadata": {},
     "output_type": "execute_result"
    }
   ],
   "source": [
    "#provide the charge data as a json\n",
    "conformer = np.array([[-0.78900161, -0.19816432, -0.        ],\n",
    "                          [-0.00612716,  0.39173634, -0.        ],\n",
    "                          [ 0.79512877, -0.19357202,  0.        ]])\n",
    "tagged_smiles = \"[H:1][O:2][H:3]\"\n",
    "json_data = {}\n",
    "json_data['conformer'] = conformer.flatten().tolist()\n",
    "json_data['tagged_smiles'] = tagged_smiles\n",
    "json_data = json.dumps(json_data)\n",
    "\n",
    "#send the data to html request\n",
    "json_charges = requests.post('http://127.0.0.1:5000/charge/EEM', json = json_data)\n",
    "json_charges.json()"
   ]
  },
  {
   "cell_type": "code",
   "execution_count": null,
   "metadata": {},
   "outputs": [],
   "source": []
  },
  {
   "cell_type": "markdown",
   "metadata": {},
   "source": [
    "Sometimes the processes will hang on a specific port (5000 in our example here). To kill the process run:\n",
    "\n",
    "`lsof -i:5000` to identify the PID then run `kill -9 <PID>`"
   ]
  },
  {
   "cell_type": "code",
   "execution_count": 23,
   "metadata": {},
   "outputs": [],
   "source": [
    "url = 'http://127.0.0.1:5000/shutdown'\n",
    "requests.post(url)\n",
    "\n",
    "flask_process.kill()"
   ]
  }
 ],
 "metadata": {
  "kernelspec": {
   "display_name": "API_env",
   "language": "python",
   "name": "python3"
  },
  "language_info": {
   "codemirror_mode": {
    "name": "ipython",
    "version": 3
   },
   "file_extension": ".py",
   "mimetype": "text/x-python",
   "name": "python",
   "nbconvert_exporter": "python",
   "pygments_lexer": "ipython3",
   "version": "3.11.6"
  }
 },
 "nbformat": 4,
 "nbformat_minor": 2
}
