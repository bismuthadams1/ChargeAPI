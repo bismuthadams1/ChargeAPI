{
 "cells": [
  {
   "cell_type": "markdown",
   "metadata": {},
   "source": [
    "# Module Example\n",
    "\n",
    "Short example of how the API would work as a python module. A python option is included to improve speeds.\n",
    "\n",
    "There are two key steps:\n",
    "\n",
    "1. Send the data the the handle_charge_request switch function\n",
    "2. Receive the charge data\n"
   ]
  },
  {
   "cell_type": "code",
   "execution_count": 2,
   "metadata": {},
   "outputs": [],
   "source": [
    "#import the necassary module\n",
    "\n",
    "from multiprocessing import Process\n",
    "import json\n",
    "import numpy as np\n",
    "from ChargeAPI.API_infrastructure.charge_request import module_version\n",
    "import os\n",
    "from rdkit import Chem\n",
    "import rdkit\n",
    "import tempfile"
   ]
  },
  {
   "cell_type": "code",
   "execution_count": 6,
   "metadata": {},
   "outputs": [
    {
     "name": "stdout",
     "output_type": "stream",
     "text": [
      "{'charge_result': '[0.40716874599456787, -0.8143374919891357, 0.40716874599456787]', 'error': ''}\n",
      "[0.40716874599456787, -0.8143374919891357, 0.40716874599456787]\n"
     ]
    }
   ],
   "source": [
    "mol = '\\n     RDKit          3D\\n\\n  3  2  0  0  0  0  0  0  0  0999 V2000\\n   -0.7890   -0.1982   -0.0000 H   0  0  0  0  0  0  0  0  0  0  0  0\\n   -0.0061    0.3917   -0.0000 O   0  0  0  0  0  0  0  0  0  0  0  0\\n    0.7951   -0.1936    0.0000 H   0  0  0  0  0  0  0  0  0  0  0  0\\n  1  2  1  0\\n  2  3  1  0\\nM  END\\n'\n",
    "\n",
    "json_result = module_version.handle_charge_request(charge_model = 'MBIS', \n",
    "                                                    conformer_mol = mol,\n",
    "                                                    batched=False)\n",
    "print(json_result)\n",
    "print(json_result['charge_result'])\n"
   ]
  },
  {
   "cell_type": "code",
   "execution_count": 7,
   "metadata": {},
   "outputs": [
    {
     "name": "stdout",
     "output_type": "stream",
     "text": [
      "{'charge_result': '/home/vboxuser/Documents/ChargeAPI/tests/data/mol_file.mol_charges.json', 'error': ''}\n",
      "/home/vboxuser/Documents/ChargeAPI/tests/data/mol_file.mol_charges.json\n",
      "{'saq-moved.pdb': [-0.19048011302947998, 0.08452986925840378, 0.26665380597114563, 0.8065628409385681, -0.7227752208709717, -0.771902859210968, 0.7308328747749329, -0.35081812739372253, -0.35081812739372253, -0.35081812739372253, -0.12038680166006088, 0.11701709032058716, 0.20693057775497437, -0.05823802202939987, 0.652499258518219, -0.4033324420452118, -0.23333334922790527, -0.06022986024618149, 0.06844419240951538, 0.14812827110290527, 0.017365755513310432, 0.008581675589084625, 0.04318920150399208, 0.008581675589084625, 0.017365755513310432, 0.9407612681388855, -0.590670645236969, -0.6192591190338135, 0.23959249258041382, 0.6557777523994446, -0.42024409770965576, -0.30426764488220215, 0.24175870418548584, -0.023133032023906708, -0.016244545578956604, -0.013178236782550812, 0.007660172879695892, -0.02330683171749115, 0.3067830801010132, -0.029724933207035065, 0.2141391783952713, -0.3046450614929199, 0.21966032683849335, -0.08650108426809311, 0.04149267449975014], 'compound_8kqry_x2_0': [-0.17281514406204224, 0.0729229748249054, -0.037755049765110016, -0.054778821766376495, 0.007757372222840786, -0.14998997747898102, 0.298392117023468, -0.2620346248149872, 0.007811196148395538, 0.8177391290664673, -0.6682602167129517, -0.28664451837539673, 0.3926674723625183, -0.20500463247299194, 0.12572887539863586, -0.046124931424856186, 0.01321603823453188, -0.028449442237615585, -0.03936830535531044, 0.07055801898241043, 0.1444324254989624], 'deepfmpo_001_1': [-0.8003778457641602, 0.9079845547676086, -0.6003772616386414, -0.021496005356311798, -0.06819649040699005, 0.13298781216144562, -0.24469928443431854, 0.48671817779541016, 0.20745624601840973]}\n"
     ]
    }
   ],
   "source": [
    "# mol_file = os.path.join('/Users/localadmin/Documents/projects/ChargeAPI/tests/data/batched_compounds.sdf')\n",
    "\n",
    "# mols = []\n",
    "# with Chem.SDMolSupplier(mol_file) as suppl:\n",
    "#     for mol in suppl:\n",
    "#         mols.append(mol)\n",
    "# print(mols)\n",
    "# mol_file = {}\n",
    "# for mol in mols:\n",
    "#     if mol.HasProp(\"_Name\"):\n",
    "#         mol_file[mol.GetProp(\"_Name\")] = rdkit.Chem.rdmolfiles.MolToMolBlock(mol)\n",
    "#     # else:\n",
    "#     #     mol_file[get_valid_id_name()] =  rdkit.Chem.rdmolfiles.MolToMolBlock(mol)\n",
    "# print(mol_file)\n",
    "# # with open(tempfile.TemporaryDirectory().name, 'w+') as tmpfile:\n",
    "# with open('mol_file.mol','w+') as f:\n",
    "#     json.dump(mol_file, f, indent = 2)\n",
    "#     file_path = os.path.abspath('mol_file.mol')\n",
    "#     print(file_path)\n",
    "\n",
    "    # json_file = nalg_mbis(mols)\n",
    "\n",
    "file_path = '/home/vboxuser/Documents/ChargeAPI/tests/data/mol_file.mol'\n",
    "json_result = module_version.handle_charge_request(charge_model = 'MBIS_CHARGE', \n",
    "                                                    conformer_mol = file_path,\n",
    "                                                    batched=True)\n",
    "print(json_result)\n",
    "print(json_result['charge_result'])\n",
    "dict = json.load(open(json_result['charge_result']))\n",
    "# [item[1] for item in dict.items()]\n",
    "print(dict)\n"
   ]
  }
 ],
 "metadata": {
  "kernelspec": {
   "display_name": "API_env",
   "language": "python",
   "name": "python3"
  },
  "language_info": {
   "codemirror_mode": {
    "name": "ipython",
    "version": 3
   },
   "file_extension": ".py",
   "mimetype": "text/x-python",
   "name": "python",
   "nbconvert_exporter": "python",
   "pygments_lexer": "ipython3",
   "version": "3.11.7"
  }
 },
 "nbformat": 4,
 "nbformat_minor": 2
}
