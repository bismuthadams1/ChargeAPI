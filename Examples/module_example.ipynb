{
 "cells": [
  {
   "cell_type": "markdown",
   "metadata": {},
   "source": [
    "# Module Example\n",
    "\n",
    "Short example of how the API would work as a python module. A python option is included to improve speeds.\n",
    "\n",
    "There are two key steps:\n",
    "\n",
    "1. Send the data the the handle_charge_request switch function\n",
    "2. Receive the charge data\n"
   ]
  },
  {
   "cell_type": "code",
   "execution_count": 1,
   "metadata": {},
   "outputs": [],
   "source": [
    "#import the necassary module\n",
    "\n",
    "from multiprocessing import Process\n",
    "import json\n",
    "import numpy as np\n",
    "from ChargeAPI.API_infrastructure import module_version"
   ]
  },
  {
   "cell_type": "code",
   "execution_count": 4,
   "metadata": {},
   "outputs": [
    {
     "name": "stdout",
     "output_type": "stream",
     "text": [
      "[0.41074484027270003, -0.8164215456115396, 0.40567670533883954]\n",
      "\n",
      "\n"
     ]
    },
    {
     "data": {
      "text/plain": [
       "{'charge_result': '[0.41074484027270003, -0.8164215456115396, 0.40567670533883954]\\n\\n',\n",
       " 'error': \"Warning: Unable to load toolkit 'OpenEye Toolkit'. The Open Force Field Toolkit does not require the OpenEye Toolkits, and can use RDKit/AmberTools instead. However, if you have a valid license for the OpenEye Toolkits, consider installing them for faster performance and additional file format support: https://docs.eyesopen.com/toolkits/python/quickstart-python/linuxosx.html OpenEye offers free Toolkit licenses for academics: https://www.eyesopen.com/academic-licensing\\n\\n\"}"
      ]
     },
     "execution_count": 4,
     "metadata": {},
     "output_type": "execute_result"
    }
   ],
   "source": [
    "xyz = '3\\n\\nH     -0.789002   -0.198164   -0.000000\\nO     -0.006127    0.391736   -0.000000\\nH      0.795129   -0.193572    0.000000\\n'\n",
    "\n",
    "json_result = module_version.handle_charge_request(charge_model = 'EEM', \n",
    "                                    conformer_xyz = xyz)\n",
    "print(json_result['charge_result'])\n",
    "json_result"
   ]
  }
 ],
 "metadata": {
  "kernelspec": {
   "display_name": "API_env",
   "language": "python",
   "name": "python3"
  },
  "language_info": {
   "codemirror_mode": {
    "name": "ipython",
    "version": 3
   },
   "file_extension": ".py",
   "mimetype": "text/x-python",
   "name": "python",
   "nbconvert_exporter": "python",
   "pygments_lexer": "ipython3",
   "version": "3.11.6"
  }
 },
 "nbformat": 4,
 "nbformat_minor": 2
}
