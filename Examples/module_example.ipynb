{
 "cells": [
  {
   "cell_type": "markdown",
   "metadata": {},
   "source": [
    "# Module Example\n",
    "\n",
    "Short example of how the API would work as a python module. A python option is included to improve speeds.\n",
    "\n",
    "There are two key steps:\n",
    "\n",
    "1. Send the data the the handle_charge_request switch function\n",
    "2. Receive the charge data\n"
   ]
  },
  {
   "cell_type": "code",
   "execution_count": 3,
   "metadata": {},
   "outputs": [],
   "source": [
    "#import the necassary module\n",
    "\n",
    "from multiprocessing import Process\n",
    "import json\n",
    "import numpy as np\n",
    "from ChargeAPI.API_infrastructure import module_version"
   ]
  },
  {
   "cell_type": "code",
   "execution_count": 4,
   "metadata": {},
   "outputs": [
    {
     "name": "stdout",
     "output_type": "stream",
     "text": [
      "[0.41073812213382016, -0.8164372902205344, 0.4056991680867142]\n",
      "\n",
      "\n"
     ]
    }
   ],
   "source": [
    "conformer = np.array([[-0.78900161, -0.19816432, -0.        ],\n",
    "                      [-0.00612716,  0.39173634, -0.        ],\n",
    "                      [ 0.79512877, -0.19357202,  0.        ]])\n",
    "\n",
    "json_result = module_version.handle_charge_request(charge_model = 'EEM', \n",
    "                                    smiles = '[H:1][O:2][H:3]', \n",
    "                                    conformer = conformer)\n",
    "print(json_result['charge_result'])"
   ]
  }
 ],
 "metadata": {
  "kernelspec": {
   "display_name": "API_env",
   "language": "python",
   "name": "python3"
  },
  "language_info": {
   "codemirror_mode": {
    "name": "ipython",
    "version": 3
   },
   "file_extension": ".py",
   "mimetype": "text/x-python",
   "name": "python",
   "nbconvert_exporter": "python",
   "pygments_lexer": "ipython3",
   "version": "3.11.6"
  }
 },
 "nbformat": 4,
 "nbformat_minor": 2
}
