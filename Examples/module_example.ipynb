{
 "cells": [
  {
   "cell_type": "markdown",
   "metadata": {},
   "source": [
    "# Module Example\n",
    "\n",
    "Short example of how the API would work as a python module. A python option is included to improve speeds.\n",
    "\n",
    "There are two key steps:\n",
    "\n",
    "1. Send the data the the handle_charge_request switch function\n",
    "2. Receive the charge data\n"
   ]
  },
  {
   "cell_type": "code",
   "execution_count": 1,
   "metadata": {},
   "outputs": [],
   "source": [
    "#import the necassary module\n",
    "\n",
    "from multiprocessing import Process\n",
    "import json\n",
    "import numpy as np\n",
    "from ChargeAPI.API_infrastructure import module_version\n",
    "\n",
    "# Function to handle serialization of complex strings\n",
    "def complex_string_handler(obj):\n",
    "    if isinstance(obj, str):\n",
    "        return obj.replace('\\n', '\\\\n')  # Handle newline characters"
   ]
  },
  {
   "cell_type": "code",
   "execution_count": 2,
   "metadata": {},
   "outputs": [
    {
     "name": "stdout",
     "output_type": "stream",
     "text": [
      "{'charge_result': 'Timer unit: 1e-09 s\\n\\nTotal time: 0 s\\nFile: /Users/localadmin/Documents/projects/ChargeAPI/ChargeAPI/charge_models/eem_model.py\\nFunction: __init__ at line 24\\n\\nLine #      Hits         Time  Per Hit   % Time  Line Contents\\n==============================================================\\n    24                                               def __init__(self, ftype=\"json\"):\\n    25                                                   super().__init__()\\n    26                                                   self.file_type = ftype\\n\\nTotal time: 0 s\\nFile: /Users/localadmin/Documents/projects/ChargeAPI/ChargeAPI/charge_models/eem_model.py\\nFunction: check_code_availability at line 29\\n\\nLine #      Hits         Time  Per Hit   % Time  Line Contents\\n==============================================================\\n    29                                               def check_code_availability(self):\\n    30                                                   \"\"\"Check external code can be run\\n    31                                                   \"\"\"\\n    32                                           \\n    33                                                   self.available = False\\n    34                                           \\n    35                                                   # Rudimentary check for openbabel conda environment\\n    36                                                   output = subprocess.run([\"conda\", \"info\", \"--envs\"], capture_output=True)\\n    37                                                   for line in output.stdout.decode().split(\"\\\\n\"):\\n    38                                                           if line:\\n    39                                                               if line.split()[0] == \"openbabel\":\\n    40                                                                   self.available = True\\n    41                                           \\n    42                                                   return self.available\\n\\nTotal time: 0 s\\nFile: /Users/localadmin/Documents/projects/ChargeAPI/ChargeAPI/charge_models/eem_model.py\\nFunction: __call__ at line 44\\n\\nLine #      Hits         Time  Per Hit   % Time  Line Contents\\n==============================================================\\n    44                                               def __call__(self,  conformer_file_path: str, file_method: bool = False):\\n    45                                                   \"\"\"Get charges for molecule.\\n    46                                           \\n    47                                                   Parameters\\n    48                                                   ----------\\n    49                                                   mapped_smiles: mapped smiles \\n    50                                                       Molecule to run charge calculation on\\n    51                                                   conformer: np.ndarray (n_atoms, 3)\\n    52                                                       co\\n    53                                                   file_type: str\\n    54                                                       Type of file to output charges to [default = json]\\n    55                                                   file_method: bool\\n    56                                                       Some charge models require temporary files to be written and read, others use python objects stored in internal memory\\n    57                                                   Returns\\n    58                                                   -------\\n    59                                                   charge_files: List of str\\n    60                                                       Files containing charges for each molecule\\n    61                                                   \"\"\"\\n    62                                                   return super().__call__(conformer_file_path)\\n\\nTotal time: 0 s\\nFile: /Users/localadmin/Documents/projects/ChargeAPI/ChargeAPI/charge_models/eem_model.py\\nFunction: convert_to_charge_format at line 64\\n\\nLine #      Hits         Time  Per Hit   % Time  Line Contents\\n==============================================================\\n    64                                               def convert_to_charge_format(self, conformer_file_path: str):\\n    65                                                   \"\"\"Convert openff molecule to appropriate format on which to assign charges\\n    66                                           \\n    67                                                   Parameters\\n    68                                                   ----------\\n    69                                                   conformer_file_path: string\\n    70                                                       File path to the mol to conver to appropriate format\\n    71                                                   \\n    72                                                   Returns\\n    73                                                   -------\\n    74                                                   ob_mol\\n    75                                                      Open babel molecule\\n    76                                                   \\n    77                                                   \"\"\"\\n    78                                                   #read file is an iterator so can read multiple eventually\\n    79                                                   ob_mol = next(pybel.readfile(\\'mol\\',conformer_file_path))\\n    80                                                 #  logging.info(f\\'the openbabel molecule is {ob_mol}\\')\\n    81                                                   ob_mol = ob_mol.OBMol\\n    82                                                   return ob_mol\\n\\nTotal time: 0 s\\nFile: /Users/localadmin/Documents/projects/ChargeAPI/ChargeAPI/charge_models/eem_model.py\\nFunction: assign_charges at line 84\\n\\nLine #      Hits         Time  Per Hit   % Time  Line Contents\\n==============================================================\\n    84                                               def assign_charges(self, ob_mol: pybel.Molecule):\\n    85                                                   \"\"\"Assign charges according to charge model selected\\n    86                                           \\n    87                                                   Parameters\\n    88                                                   ----------\\n    89                                                   ob_mol: generic python object depending on the charge model\\n    90                                                       Charge model appropriate python object on which to assign the charges\\n    91                                           \\n    92                                                   Returns\\n    93                                                   -------\\n    94                                                   partial_charges: list of partial charges \\n    95                                                   \"\"\"\\n    96                                                   charge_model = ob.OBChargeModel.FindType(\"eem2015bn\")\\n    97                                                   charge_model.ComputeCharges(ob_mol)\\n    98                                                   charges = [atom.GetPartialCharge() for atom in ob.OBMolAtomIter(ob_mol)]\\n    99                                                  # logging.info(f\\'the charges coming out of assign_charges are: {charges}\\')\\n   100                                                   return charges\\n\\nNone\\n\\n', 'error': \"Warning: Unable to load toolkit 'OpenEye Toolkit'. The Open Force Field Toolkit does not require the OpenEye Toolkits, and can use RDKit/AmberTools instead. However, if you have a valid license for the OpenEye Toolkits, consider installing them for faster performance and additional file format support: https://docs.eyesopen.com/toolkits/python/quickstart-python/linuxosx.html OpenEye offers free Toolkit licenses for academics: https://www.eyesopen.com/academic-licensing\\n\\n\"}\n"
     ]
    }
   ],
   "source": [
    "mol = '\\n     RDKit          3D\\n\\n  3  2  0  0  0  0  0  0  0  0999 V2000\\n   -0.7890   -0.1982   -0.0000 H   0  0  0  0  0  0  0  0  0  0  0  0\\n   -0.0061    0.3917   -0.0000 O   0  0  0  0  0  0  0  0  0  0  0  0\\n    0.7951   -0.1936    0.0000 H   0  0  0  0  0  0  0  0  0  0  0  0\\n  1  2  1  0\\n  2  3  1  0\\nM  END\\n'\n",
    "\n",
    "json_result = module_version.handle_charge_request(charge_model = 'EEM', \n",
    "                                                    conformer_mol = mol)\n",
    "print(json_result)#['charge_result'])\n",
    "#json_result['charge_result']\n",
    "with open('output.json', 'w') as f:\n",
    " json.dump(json_result, f, ensure_ascii=False, indent= 4)"
   ]
  },
  {
   "cell_type": "code",
   "execution_count": 2,
   "metadata": {},
   "outputs": [
    {
     "data": {
      "text/plain": [
       "'/Users/localadmin/Documents/projects/ChargeAPI/ChargeAPI'"
      ]
     },
     "execution_count": 2,
     "metadata": {},
     "output_type": "execute_result"
    }
   ],
   "source": [
    "import ChargeAPI\n",
    "import os\n",
    "os.path.dirname(ChargeAPI.__file__)"
   ]
  }
 ],
 "metadata": {
  "kernelspec": {
   "display_name": "API_env",
   "language": "python",
   "name": "python3"
  },
  "language_info": {
   "codemirror_mode": {
    "name": "ipython",
    "version": 3
   },
   "file_extension": ".py",
   "mimetype": "text/x-python",
   "name": "python",
   "nbconvert_exporter": "python",
   "pygments_lexer": "ipython3",
   "version": "3.11.6"
  }
 },
 "nbformat": 4,
 "nbformat_minor": 2
}
