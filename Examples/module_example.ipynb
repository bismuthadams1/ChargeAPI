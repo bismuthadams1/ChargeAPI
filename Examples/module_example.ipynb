{
 "cells": [
  {
   "cell_type": "markdown",
   "metadata": {},
   "source": [
    "# Module Example\n",
    "\n",
    "Short example of how the API would work as a python module. A python option is included to improve speeds.\n",
    "\n",
    "There are two key steps:\n",
    "\n",
    "1. Send the data the the handle_charge_request switch function\n",
    "2. Receive the charge data\n"
   ]
  },
  {
   "cell_type": "code",
   "execution_count": 1,
   "metadata": {},
   "outputs": [],
   "source": [
    "#import the necassary module\n",
    "\n",
    "from multiprocessing import Process\n",
    "import json\n",
    "import numpy as np\n",
    "from ChargeAPI.API_infrastructure import module_version\n"
   ]
  },
  {
   "cell_type": "code",
   "execution_count": 2,
   "metadata": {},
   "outputs": [
    {
     "name": "stdout",
     "output_type": "stream",
     "text": [
      "{'charge_result': '', 'error': 'Traceback (most recent call last):\\n  File \"/Users/localadmin/Documents/projects/ChargeAPI/ChargeAPI/charge_models/eem_model.py\", line 4, in <module>\\n    from ChargeAPI.charge_models.base_class import ExternalChargeModel\\n  File \"/Users/localadmin/Documents/projects/ChargeAPI/ChargeAPI/charge_models/__init__.py\", line 20, in <module>\\n    module = importlib.import_module(module_name,__package__)\\n             ^^^^^^^^^^^^^^^^^^^^^^^^^^^^^^^^^^^^^^^^^^^^^^^^\\n  File \"/Users/localadmin/mambaforge/envs/openbabel/lib/python3.11/importlib/__init__.py\", line 126, in import_module\\n    return _bootstrap._gcd_import(name[level:], package, level)\\n           ^^^^^^^^^^^^^^^^^^^^^^^^^^^^^^^^^^^^^^^^^^^^^^^^^^^^\\n  File \"/Users/localadmin/Documents/projects/ChargeAPI/ChargeAPI/charge_models/mbis_model.py\", line 5, in <module>\\n    from naglmbis.models import load_charge_model\\nModuleNotFoundError: No module named \\'naglmbis\\'\\n\\nERROR conda.cli.main_run:execute(47): `conda run python /Users/localadmin/Documents/projects/ChargeAPI/ChargeAPI/charge_models/eem_model.py --conformer \\n     RDKit          3D\\n\\n  3  2  0  0  0  0  0  0  0  0999 V2000\\n   -0.7890   -0.1982   -0.0000 H   0  0  0  0  0  0  0  0  0  0  0  0\\n   -0.0061    0.3917   -0.0000 O   0  0  0  0  0  0  0  0  0  0  0  0\\n    0.7951   -0.1936    0.0000 H   0  0  0  0  0  0  0  0  0  0  0  0\\n  1  2  1  0\\n  2  3  1  0\\nM  END\\n --not_batched` failed. (See above for error)\\n'}\n",
      "\n"
     ]
    }
   ],
   "source": [
    "mol = '\\n     RDKit          3D\\n\\n  3  2  0  0  0  0  0  0  0  0999 V2000\\n   -0.7890   -0.1982   -0.0000 H   0  0  0  0  0  0  0  0  0  0  0  0\\n   -0.0061    0.3917   -0.0000 O   0  0  0  0  0  0  0  0  0  0  0  0\\n    0.7951   -0.1936    0.0000 H   0  0  0  0  0  0  0  0  0  0  0  0\\n  1  2  1  0\\n  2  3  1  0\\nM  END\\n'\n",
    "\n",
    "json_result = module_version.handle_charge_request(charge_model = 'EEM', \n",
    "                                                    conformer_mol = mol,\n",
    "                                                    batched=False)\n",
    "print(json_result)\n",
    "print(json_result['charge_result'])\n"
   ]
  },
  {
   "cell_type": "code",
   "execution_count": 1,
   "metadata": {},
   "outputs": [
    {
     "name": "stdout",
     "output_type": "stream",
     "text": [
      "base_class\n",
      "eem_model\n",
      "mbis_model\n",
      "mbis_model_charges\n",
      "{'EEM_model': 'openbabel', 'MBIS_Model': 'naglmbis', 'MBIS_Model_charge': 'naglmbis'}\n"
     ]
    }
   ],
   "source": [
    "from  ChargeAPI.charge_models import EXT_CHARGE_MODELS\n",
    "print(EXT_CHARGE_MODELS)"
   ]
  },
  {
   "cell_type": "code",
   "execution_count": null,
   "metadata": {},
   "outputs": [],
   "source": []
  }
 ],
 "metadata": {
  "kernelspec": {
   "display_name": "API_env",
   "language": "python",
   "name": "python3"
  },
  "language_info": {
   "codemirror_mode": {
    "name": "ipython",
    "version": 3
   },
   "file_extension": ".py",
   "mimetype": "text/x-python",
   "name": "python",
   "nbconvert_exporter": "python",
   "pygments_lexer": "ipython3",
   "version": "3.11.6"
  }
 },
 "nbformat": 4,
 "nbformat_minor": 2
}
