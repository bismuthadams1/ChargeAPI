{
 "cells": [
  {
   "cell_type": "markdown",
   "metadata": {},
   "source": [
    "# Module Example\n",
    "\n",
    "Short example of how the API would work as a python module. A python option is included to improve speeds.\n",
    "\n",
    "There are two key steps:\n",
    "\n",
    "1. Send the data the the handle_charge_request switch function\n",
    "2. Receive the charge data\n"
   ]
  },
  {
   "cell_type": "code",
   "execution_count": 1,
   "metadata": {},
   "outputs": [],
   "source": [
    "#import the necassary module\n",
    "\n",
    "from multiprocessing import Process\n",
    "import json\n",
    "import numpy as np\n",
    "from ChargeAPI.API_infrastructure import module_version"
   ]
  },
  {
   "cell_type": "code",
   "execution_count": 2,
   "metadata": {},
   "outputs": [
    {
     "ename": "TypeError",
     "evalue": "handle_charge_request() got an unexpected keyword argument 'conformer_mol'",
     "output_type": "error",
     "traceback": [
      "\u001b[0;31m---------------------------------------------------------------------------\u001b[0m",
      "\u001b[0;31mTypeError\u001b[0m                                 Traceback (most recent call last)",
      "\u001b[1;32m/Users/localadmin/Documents/projects/ChargeAPI/Examples/module_example.ipynb Cell 3\u001b[0m line \u001b[0;36m3\n\u001b[1;32m      <a href='vscode-notebook-cell:/Users/localadmin/Documents/projects/ChargeAPI/Examples/module_example.ipynb#W2sZmlsZQ%3D%3D?line=0'>1</a>\u001b[0m mol \u001b[39m=\u001b[39m \u001b[39m'\u001b[39m\u001b[39m\\n\u001b[39;00m\u001b[39m     RDKit          3D\u001b[39m\u001b[39m\\n\u001b[39;00m\u001b[39m\\n\u001b[39;00m\u001b[39m  3  2  0  0  0  0  0  0  0  0999 V2000\u001b[39m\u001b[39m\\n\u001b[39;00m\u001b[39m   -0.7890   -0.1982   -0.0000 H   0  0  0  0  0  0  0  0  0  0  0  0\u001b[39m\u001b[39m\\n\u001b[39;00m\u001b[39m   -0.0061    0.3917   -0.0000 O   0  0  0  0  0  0  0  0  0  0  0  0\u001b[39m\u001b[39m\\n\u001b[39;00m\u001b[39m    0.7951   -0.1936    0.0000 H   0  0  0  0  0  0  0  0  0  0  0  0\u001b[39m\u001b[39m\\n\u001b[39;00m\u001b[39m  1  2  1  0\u001b[39m\u001b[39m\\n\u001b[39;00m\u001b[39m  2  3  1  0\u001b[39m\u001b[39m\\n\u001b[39;00m\u001b[39mM  END\u001b[39m\u001b[39m\\n\u001b[39;00m\u001b[39m'\u001b[39m\n\u001b[0;32m----> <a href='vscode-notebook-cell:/Users/localadmin/Documents/projects/ChargeAPI/Examples/module_example.ipynb#W2sZmlsZQ%3D%3D?line=2'>3</a>\u001b[0m json_result \u001b[39m=\u001b[39m module_version\u001b[39m.\u001b[39;49mhandle_charge_request(charge_model \u001b[39m=\u001b[39;49m \u001b[39m'\u001b[39;49m\u001b[39mEEM\u001b[39;49m\u001b[39m'\u001b[39;49m, \n\u001b[1;32m      <a href='vscode-notebook-cell:/Users/localadmin/Documents/projects/ChargeAPI/Examples/module_example.ipynb#W2sZmlsZQ%3D%3D?line=3'>4</a>\u001b[0m                                                     conformer_mol \u001b[39m=\u001b[39;49m mol)\n\u001b[1;32m      <a href='vscode-notebook-cell:/Users/localadmin/Documents/projects/ChargeAPI/Examples/module_example.ipynb#W2sZmlsZQ%3D%3D?line=4'>5</a>\u001b[0m \u001b[39m#print(json_result['charge_result'])\u001b[39;00m\n\u001b[1;32m      <a href='vscode-notebook-cell:/Users/localadmin/Documents/projects/ChargeAPI/Examples/module_example.ipynb#W2sZmlsZQ%3D%3D?line=5'>6</a>\u001b[0m json_result\n",
      "\u001b[0;31mTypeError\u001b[0m: handle_charge_request() got an unexpected keyword argument 'conformer_mol'"
     ]
    }
   ],
   "source": [
    "mol = '\\n     RDKit          3D\\n\\n  3  2  0  0  0  0  0  0  0  0999 V2000\\n   -0.7890   -0.1982   -0.0000 H   0  0  0  0  0  0  0  0  0  0  0  0\\n   -0.0061    0.3917   -0.0000 O   0  0  0  0  0  0  0  0  0  0  0  0\\n    0.7951   -0.1936    0.0000 H   0  0  0  0  0  0  0  0  0  0  0  0\\n  1  2  1  0\\n  2  3  1  0\\nM  END\\n'\n",
    "\n",
    "json_result = module_version.handle_charge_request(charge_model = 'EEM', \n",
    "                                                    conformer_mol = mol)\n",
    "#print(json_result['charge_result'])\n",
    "json_result"
   ]
  }
 ],
 "metadata": {
  "kernelspec": {
   "display_name": "API_env",
   "language": "python",
   "name": "python3"
  },
  "language_info": {
   "codemirror_mode": {
    "name": "ipython",
    "version": 3
   },
   "file_extension": ".py",
   "mimetype": "text/x-python",
   "name": "python",
   "nbconvert_exporter": "python",
   "pygments_lexer": "ipython3",
   "version": "3.11.6"
  }
 },
 "nbformat": 4,
 "nbformat_minor": 2
}
